{
 "cells": [
  {
   "cell_type": "markdown",
   "id": "afc175e9",
   "metadata": {},
   "source": [
    "# Data Science Tools and Ecosystem"
   ]
  },
  {
   "cell_type": "code",
   "execution_count": null,
   "id": "d2441330",
   "metadata": {},
   "outputs": [],
   "source": []
  },
  {
   "cell_type": "markdown",
   "id": "422cbab4",
   "metadata": {},
   "source": [
    "# In this notebook, Data Science Tools and Ecosystem are summarized."
   ]
  },
  {
   "cell_type": "code",
   "execution_count": null,
   "id": "dfb92aa8",
   "metadata": {},
   "outputs": [],
   "source": []
  },
  {
   "cell_type": "markdown",
   "id": "4d307071",
   "metadata": {},
   "source": [
    "# Some of the popular languages that Data Scientists use are:"
   ]
  },
  {
   "cell_type": "code",
   "execution_count": 2,
   "id": "5117df96",
   "metadata": {},
   "outputs": [
    {
     "name": "stdout",
     "output_type": "stream",
     "text": [
      "Commonly Used Data Science Languages:\n",
      "1. Python\n",
      "2. R\n",
      "3. SQL\n"
     ]
    }
   ],
   "source": [
    "# List of commonly used languages for data science\n",
    "data_science_languages = [\"Python\", \"R\", \"SQL\"]\n",
    "\n",
    "# Print the ordered list\n",
    "print(\"Commonly Used Data Science Languages:\")\n",
    "for index, language in enumerate(data_science_languages, start=1):\n",
    "    print(f\"{index}. {language}\")\n"
   ]
  },
  {
   "cell_type": "markdown",
   "id": "6658ae58",
   "metadata": {},
   "source": [
    "# Some of the commonly used libraries used by Data Scientists include:"
   ]
  },
  {
   "cell_type": "code",
   "execution_count": 3,
   "id": "0027ac52",
   "metadata": {},
   "outputs": [
    {
     "name": "stdout",
     "output_type": "stream",
     "text": [
      "Commonly Used Data Science Libraries:\n",
      "1. NumPy\n",
      "2. Pandas\n",
      "3. Scikit-learn\n"
     ]
    }
   ],
   "source": [
    "# List of commonly used libraries for data science\n",
    "data_science_libraries = [\"NumPy\", \"Pandas\", \"Scikit-learn\"]\n",
    "\n",
    "# Print the ordered list\n",
    "print(\"Commonly Used Data Science Libraries:\")\n",
    "for index, library in enumerate(data_science_libraries, start=1):\n",
    "    print(f\"{index}. {library}\")\n"
   ]
  },
  {
   "cell_type": "markdown",
   "id": "6148cb4a",
   "metadata": {},
   "source": [
    "# Data Science Tools"
   ]
  },
  {
   "cell_type": "code",
   "execution_count": 4,
   "id": "44e303be",
   "metadata": {},
   "outputs": [
    {
     "name": "stdout",
     "output_type": "stream",
     "text": [
      "+--------------------+\n",
      "| Data Science Tools |\n",
      "+--------------------+\n",
      "| Jupyter Notebooks  |\n",
      "| VSCode (Visual Studio Code) |\n",
      "| RStudio            |\n",
      "+--------------------+\n"
     ]
    }
   ],
   "source": [
    "def print_table(header, rows):\n",
    "    column_width = max(max(len(str(cell)) for row in [header] + rows for cell in row), len(header))\n",
    "    print(f\"+{'-' * (column_width + 2)}+\")\n",
    "    print(f\"| {header.ljust(column_width)} |\")\n",
    "    print(f\"+{'-' * (column_width + 2)}+\")\n",
    "    for row in rows:\n",
    "        print(f\"| {str(row).ljust(column_width)} |\")\n",
    "    print(f\"+{'-' * (column_width + 2)}+\")\n",
    "\n",
    "if __name__ == '__main__':\n",
    "    header = \"Data Science Tools\"\n",
    "    tools = [\"Jupyter Notebooks\", \"VSCode (Visual Studio Code)\", \"RStudio\"]\n",
    "\n",
    "    print_table(header, tools)\n"
   ]
  },
  {
   "cell_type": "markdown",
   "id": "601a7ead",
   "metadata": {},
   "source": [
    "### Below are a few examples of evaluating arithmetic expressions in Python"
   ]
  },
  {
   "cell_type": "code",
   "execution_count": 5,
   "id": "a7435de3",
   "metadata": {},
   "outputs": [
    {
     "name": "stdout",
     "output_type": "stream",
     "text": [
      "17\n"
     ]
    }
   ],
   "source": [
    "# This is a simple arithmetic expression to multiply then add integers.\n",
    "result = (3 * 4) + 5\n",
    "print(result)\n"
   ]
  },
  {
   "cell_type": "code",
   "execution_count": 6,
   "id": "0882f61b",
   "metadata": {
    "scrolled": true
   },
   "outputs": [
    {
     "name": "stdout",
     "output_type": "stream",
     "text": [
      "3.3333333333333335\n"
     ]
    }
   ],
   "source": [
    "# This will convert 200 minutes to hours by dividing by 60.\n",
    "minutes = 200\n",
    "hours = minutes / 60\n",
    "print(hours)\n"
   ]
  },
  {
   "cell_type": "markdown",
   "id": "f313c8c7",
   "metadata": {},
   "source": [
    "# Objectives:"
   ]
  },
  {
   "cell_type": "markdown",
   "id": "ae4a4f88",
   "metadata": {},
   "source": [
    "#### Understand commonly used languages in Data Science.\n",
    "#### Explore popular libraries for Data Science in Python.\n",
    "#### Create simple text-based tables using Markdown.\n",
    "####  Perform basic arithmetic operations in Python.\n",
    "#### Convert units using simple expressions in Python."
   ]
  },
  {
   "cell_type": "markdown",
   "id": "3b385aff",
   "metadata": {},
   "source": [
    "## Author\n",
    "\n",
    "Sriniha Mourila"
   ]
  },
  {
   "cell_type": "code",
   "execution_count": null,
   "id": "8636aa68",
   "metadata": {},
   "outputs": [],
   "source": []
  }
 ],
 "metadata": {
  "kernelspec": {
   "display_name": "Python 3",
   "language": "python",
   "name": "python3"
  },
  "language_info": {
   "codemirror_mode": {
    "name": "ipython",
    "version": 3
   },
   "file_extension": ".py",
   "mimetype": "text/x-python",
   "name": "python",
   "nbconvert_exporter": "python",
   "pygments_lexer": "ipython3",
   "version": "3.10.9"
  }
 },
 "nbformat": 4,
 "nbformat_minor": 5
}
